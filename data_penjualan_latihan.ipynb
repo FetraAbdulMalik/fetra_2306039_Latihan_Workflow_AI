{
  "nbformat": 4,
  "nbformat_minor": 0,
  "metadata": {
    "colab": {
      "provenance": [],
      "toc_visible": true,
      "authorship_tag": "ABX9TyMoV9wHkr1LSD8FATS3ocOg",
      "include_colab_link": true
    },
    "kernelspec": {
      "name": "python3",
      "display_name": "Python 3"
    },
    "language_info": {
      "name": "python"
    }
  },
  "cells": [
    {
      "cell_type": "markdown",
      "metadata": {
        "id": "view-in-github",
        "colab_type": "text"
      },
      "source": [
        "<a href=\"https://colab.research.google.com/github/FetraAbdulMalik/fetra_2306039_Latihan_Workflow_AI/blob/main/data_penjualan_latihan.ipynb\" target=\"_parent\"><img src=\"https://colab.research.google.com/assets/colab-badge.svg\" alt=\"Open In Colab\"/></a>"
      ]
    },
    {
      "cell_type": "code",
      "execution_count": null,
      "metadata": {
        "colab": {
          "base_uri": "https://localhost:8080/"
        },
        "id": "5aRsE6A7wwiH",
        "outputId": "18dc9643-9d9c-4253-f2d4-fc74a6046506"
      },
      "outputs": [
        {
          "output_type": "stream",
          "name": "stdout",
          "text": [
            "File CSV berhasil dibuat dan disimpan sebagai 'data_penjualan_latihan.csv'!\n"
          ]
        }
      ],
      "source": [
        "import pandas as pd\n",
        "\n",
        "data = {\n",
        "    \"Tanggal\" : [\"2025-02-01\", \"2025-02-01\", \"2025-02-02\", \"2025-02-02\", \"2025-02-03\"],\n",
        "    \"Produk\" : [\"Basreng\", \"Mie Ayam\", \"Josu\", \"Mie Instan\", \"Bakmie\"],\n",
        "    \"Jumlah Terjual\" : [8, 10, 15, 25, 9],\n",
        "    \"Stok\" : [10, 15, 20, 40, 15],\n",
        "    \"Harga Satuan\" : [5000, 12000, 5000, 7000, 10000],\n",
        "}\n",
        "\n",
        "df = pd.DataFrame(data)\n",
        "\n",
        "df.to_csv(\"data_penjualan_latihan.csv\", index=False)\n",
        "\n",
        "print(\"File CSV berhasil dibuat dan disimpan sebagai 'data_penjualan_latihan.csv'!\")"
      ]
    },
    {
      "cell_type": "code",
      "source": [
        "from google.colab import drive\n",
        "drive.mount('/content/drive')"
      ],
      "metadata": {
        "id": "B7iceBRrFoEu"
      },
      "execution_count": null,
      "outputs": []
    },
    {
      "cell_type": "code",
      "source": [
        "df = pd.read_csv(\"data_penjualan_latihan.csv\")\n",
        "\n",
        "print(df.head())"
      ],
      "metadata": {
        "colab": {
          "base_uri": "https://localhost:8080/"
        },
        "id": "1bTM7XMi1EC3",
        "outputId": "b1e41a6b-2633-457f-b3ed-b6a241be4f69"
      },
      "execution_count": null,
      "outputs": [
        {
          "output_type": "stream",
          "name": "stdout",
          "text": [
            "      Tanggal      Produk  Jumlah Terjual  Stok  Harga Satuan\n",
            "0  2025-02-01     Basreng               8    10          5000\n",
            "1  2025-02-01    Mie Ayam              10    15         12000\n",
            "2  2025-02-02        Josu              15    20          5000\n",
            "3  2025-02-02  Mie Instan              25    40          7000\n",
            "4  2025-02-03      Bakmie               9    15         10000\n"
          ]
        }
      ]
    },
    {
      "cell_type": "code",
      "source": [
        "print(df.isnull().sum())\n",
        "\n",
        "# Convert 'Tanggal' to datetime\n",
        "df[\"Tanggal\"] = pd.to_datetime(df[\"Tanggal\"])\n",
        "\n",
        "# Calculate 'Total Penjualan'\n",
        "df[\"Total Penjualan\"] = df[\"Jumlah Terjual\"] * df[\"Harga Satuan\"]\n",
        "\n",
        "# Calculate 'Keuntungan' and ensure it's not negative\n",
        "\n",
        "df[\"Keuntungan\"] = (df[\"Total Penjualan\"] - (df[\"Jumlah Terjual\"] * 1000))\n",
        "# Display the first few rows of the dataframe\n",
        "print(df.head())"
      ],
      "metadata": {
        "colab": {
          "base_uri": "https://localhost:8080/"
        },
        "id": "t4G3t9jr1ePK",
        "outputId": "5d06d616-37c8-4f29-d513-c194104a2b42"
      },
      "execution_count": null,
      "outputs": [
        {
          "output_type": "stream",
          "name": "stdout",
          "text": [
            "Tanggal            0\n",
            "Produk             0\n",
            "Jumlah Terjual     0\n",
            "Stok               0\n",
            "Harga Satuan       0\n",
            "Total Penjualan    0\n",
            "Keuntungan         0\n",
            "Restock            0\n",
            "dtype: int64\n",
            "     Tanggal      Produk  Jumlah Terjual  Stok  Harga Satuan  Total Penjualan  \\\n",
            "0 2025-02-01     Basreng             8.8    10          5000          44000.0   \n",
            "1 2025-02-01    Mie Ayam            11.0    15         12000         132000.0   \n",
            "2 2025-02-02        Josu            16.5    20          5000          82500.0   \n",
            "3 2025-02-02  Mie Instan            27.5    40          7000         192500.0   \n",
            "4 2025-02-03      Bakmie             9.9    15         10000          99000.0   \n",
            "\n",
            "   Keuntungan  Restock  \n",
            "0     35200.0    False  \n",
            "1    121000.0    False  \n",
            "2     66000.0    False  \n",
            "3    165000.0    False  \n",
            "4     89100.0    False  \n"
          ]
        }
      ]
    },
    {
      "cell_type": "code",
      "source": [
        "from sklearn.model_selection import train_test_split\n",
        "from sklearn.tree import DecisionTreeClassifier\n",
        "from sklearn.metrics import accuracy_score\n",
        "\n",
        "df[\"Restock\"] = df[\"Stok\"] < 5\n",
        "x = df[[\"Jumlah Terjual\", \"Stok\"]]\n",
        "y = df[\"Restock\"].astype(int)\n",
        "\n",
        "x_train, x_test, y_train, y_test = train_test_split(x, y, test_size=0.2, random_state=42)\n",
        "\n",
        "model = DecisionTreeClassifier()\n",
        "model.fit(x_train, y_train)\n",
        "\n",
        "y_pred = model.predict(x_test)\n",
        "\n",
        "accuracy = accuracy_score(y_test, y_pred)\n",
        "\n",
        "print(f\"Akurasi Model: {accuracy * 100:.2f}%\")"
      ],
      "metadata": {
        "colab": {
          "base_uri": "https://localhost:8080/"
        },
        "id": "pgVlmK2x-1JY",
        "outputId": "e7ca0de5-5ea5-40ee-8506-e58e64622102"
      },
      "execution_count": null,
      "outputs": [
        {
          "output_type": "stream",
          "name": "stdout",
          "text": [
            "Akurasi Model: 100.00%\n"
          ]
        }
      ]
    },
    {
      "cell_type": "code",
      "source": [
        "input_data = [[8,3]]\n",
        "\n",
        "prediksi = model.predict(input_data)\n",
        "\n",
        "status = \"Perlu Restock\" if prediksi[0] == 1 else \"tidak Perlu di Restock\"\n",
        "\n",
        "print(f\"Prediksi: {status}\")"
      ],
      "metadata": {
        "colab": {
          "base_uri": "https://localhost:8080/"
        },
        "id": "prGAzbDM_Fk7",
        "outputId": "1a927af5-02eb-4953-de5f-2bd67c21943a"
      },
      "execution_count": null,
      "outputs": [
        {
          "output_type": "stream",
          "name": "stdout",
          "text": [
            "Prediksi: tidak Perlu di Restock\n"
          ]
        },
        {
          "output_type": "stream",
          "name": "stderr",
          "text": [
            "/usr/local/lib/python3.11/dist-packages/sklearn/utils/validation.py:2739: UserWarning: X does not have valid feature names, but DecisionTreeClassifier was fitted with feature names\n",
            "  warnings.warn(\n"
          ]
        }
      ]
    },
    {
      "cell_type": "code",
      "source": [
        "import matplotlib.pyplot as plt\n",
        "\n",
        "plt.scatter(df[\"Jumlah Terjual\"], df[\"Stok\"], c=df[\"Keuntungan\"], cmap=\"coolwarm\", edgecolors=\"k\")\n",
        "plt.colorbar(label=\"Keuntungan\")\n",
        "plt.xlabel(\"Jumlah Terjual\")\n",
        "plt.ylabel(\"Stok\")\n",
        "plt.title(\"Hubungan Jumlah Terjual dan stok terhadap keuntungan\")\n",
        "plt.show()"
      ],
      "metadata": {
        "colab": {
          "base_uri": "https://localhost:8080/",
          "height": 472
        },
        "id": "ubqFYOZh_2qO",
        "outputId": "40c98b26-93f1-41e4-83c5-88d1fa1125a2"
      },
      "execution_count": null,
      "outputs": [
        {
          "output_type": "display_data",
          "data": {
            "text/plain": [
              "<Figure size 640x480 with 2 Axes>"
            ],
            "image/png": "[encoded data removed]"
          },
          "metadata": {}
        }
      ]
    },
    {
      "cell_type": "markdown",
      "source": [
        "# New Section"
      ],
      "metadata": {
        "id": "qxejEMuICAwc"
      }
    }
  ]
}